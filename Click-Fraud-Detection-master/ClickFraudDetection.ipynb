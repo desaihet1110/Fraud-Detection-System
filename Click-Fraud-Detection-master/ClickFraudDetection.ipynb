{
 "cells": [
  {
   "cell_type": "markdown",
   "metadata": {},
   "source": [
    "PREPROCESSING"
   ]
  },
  {
   "cell_type": "code",
   "execution_count": 1,
   "metadata": {
    "collapsed": true
   },
   "outputs": [],
   "source": [
    "import numpy as np\n",
    "import pandas as pd\n",
    "from sklearn.preprocessing import LabelEncoder\n",
    "from pandas import read_csv"
   ]
  },
  {
   "cell_type": "code",
   "execution_count": 2,
   "metadata": {
    "collapsed": true
   },
   "outputs": [],
   "source": [
    "df1=pd.read_csv(\"AllFeb21-fraud.csv\")\n",
    "df2=pd.read_csv(\"AllFeb21-click.csv\")\n",
    "df2=df2.sample(frac=0.06)"
   ]
  },
  {
   "cell_type": "code",
   "execution_count": 3,
   "metadata": {
    "collapsed": true
   },
   "outputs": [],
   "source": [
    "df=pd.concat([df1,df2], sort = False, axis=0, join='outer')"
   ]
  },
  {
   "cell_type": "code",
   "execution_count": 4,
   "metadata": {
    "collapsed": false
   },
   "outputs": [
    {
     "data": {
      "text/html": [
       "<div>\n",
       "<style scoped>\n",
       "    .dataframe tbody tr th:only-of-type {\n",
       "        vertical-align: middle;\n",
       "    }\n",
       "\n",
       "    .dataframe tbody tr th {\n",
       "        vertical-align: top;\n",
       "    }\n",
       "\n",
       "    .dataframe thead th {\n",
       "        text-align: right;\n",
       "    }\n",
       "</style>\n",
       "<table border=\"1\" class=\"dataframe\">\n",
       "  <thead>\n",
       "    <tr style=\"text-align: right;\">\n",
       "      <th></th>\n",
       "      <th>id</th>\n",
       "      <th>timestamp</th>\n",
       "      <th>imprId</th>\n",
       "      <th>clmbUserId</th>\n",
       "      <th>adSltDimId</th>\n",
       "      <th>auds</th>\n",
       "      <th>itemid</th>\n",
       "      <th>algo</th>\n",
       "      <th>advClientId</th>\n",
       "      <th>pubClientId</th>\n",
       "      <th>...</th>\n",
       "      <th>cityDimId</th>\n",
       "      <th>stateDimId</th>\n",
       "      <th>ispDimId</th>\n",
       "      <th>userAgent</th>\n",
       "      <th>osDimId</th>\n",
       "      <th>devTypeDimId</th>\n",
       "      <th>vendorDimId</th>\n",
       "      <th>modelDimId</th>\n",
       "      <th>connTypeDimId</th>\n",
       "      <th>browserDimId</th>\n",
       "    </tr>\n",
       "  </thead>\n",
       "  <tbody>\n",
       "    <tr>\n",
       "      <th>0</th>\n",
       "      <td>AWG0etPWgZyWSkOz8de0</td>\n",
       "      <td>2018-02-21T00:00:00.357+05:30</td>\n",
       "      <td>5d5cb350-a6ca-4a43-a7e5-d0d0e13001ad-10wzw</td>\n",
       "      <td>ec9b6986-6ec1-4d24-85ab-2343f8d3c553-10nns</td>\n",
       "      <td>298928</td>\n",
       "      <td>9hx,7dx,592,596,ctf,cth,5ag,ctp,8gv,8gw,58k,9i...</td>\n",
       "      <td>19760035</td>\n",
       "      <td>18</td>\n",
       "      <td>7711</td>\n",
       "      <td>45681</td>\n",
       "      <td>...</td>\n",
       "      <td>437</td>\n",
       "      <td>1808</td>\n",
       "      <td>265618</td>\n",
       "      <td>Mozilla/5.0 (Windows NT 10.0; WOW64; rv:10.0) ...</td>\n",
       "      <td>196058</td>\n",
       "      <td>196047</td>\n",
       "      <td>196151</td>\n",
       "      <td>204038</td>\n",
       "      <td>264494</td>\n",
       "      <td>129467</td>\n",
       "    </tr>\n",
       "    <tr>\n",
       "      <th>1</th>\n",
       "      <td>AWG0etPFY5M4951fKkat</td>\n",
       "      <td>2018-02-21T00:00:00.818+05:30</td>\n",
       "      <td>5d5cb350-a6ca-4a43-a7e5-d0d0e13001ad-10wzw</td>\n",
       "      <td>ec9b6986-6ec1-4d24-85ab-2343f8d3c553-10nns</td>\n",
       "      <td>298928</td>\n",
       "      <td>9hx,7dx,592,596,ctf,cth,5ag,ctp,8gv,8gw,58k,9i...</td>\n",
       "      <td>19760035</td>\n",
       "      <td>18</td>\n",
       "      <td>7711</td>\n",
       "      <td>45681</td>\n",
       "      <td>...</td>\n",
       "      <td>437</td>\n",
       "      <td>1808</td>\n",
       "      <td>265618</td>\n",
       "      <td>Mozilla/5.0 (Windows NT 10.0; WOW64; rv:10.0) ...</td>\n",
       "      <td>196058</td>\n",
       "      <td>196047</td>\n",
       "      <td>196151</td>\n",
       "      <td>204038</td>\n",
       "      <td>264494</td>\n",
       "      <td>129467</td>\n",
       "    </tr>\n",
       "    <tr>\n",
       "      <th>2</th>\n",
       "      <td>AWG0e0GGY5M4951fKwtx</td>\n",
       "      <td>2018-02-21T00:00:31.928+05:30</td>\n",
       "      <td>6f204377-e2ea-433a-a524-181c1a0566cd-10ni9</td>\n",
       "      <td>fa38f9fc-3243-4500-8a24-9da7914a24c8-10otg</td>\n",
       "      <td>252853</td>\n",
       "      <td>7j8,9hx,7dy,41j,8ka,ai9,8sm,5o2,437,9ij,8sy,8s...</td>\n",
       "      <td>18213172</td>\n",
       "      <td>18</td>\n",
       "      <td>1091</td>\n",
       "      <td>26570</td>\n",
       "      <td>...</td>\n",
       "      <td>10235</td>\n",
       "      <td>1800</td>\n",
       "      <td>280429</td>\n",
       "      <td>Dalvik/2.1.0 (Linux; U; Android 5.1.1; vivo Y3...</td>\n",
       "      <td>129311</td>\n",
       "      <td>196041</td>\n",
       "      <td>196472</td>\n",
       "      <td>227522</td>\n",
       "      <td>264496</td>\n",
       "      <td>129433</td>\n",
       "    </tr>\n",
       "    <tr>\n",
       "      <th>3</th>\n",
       "      <td>AWG0e3iV2xuD_p56vXkM</td>\n",
       "      <td>2018-02-21T00:00:46.018+05:30</td>\n",
       "      <td>3fa8c2bb-e96b-4c28-88ca-39ab3a3d3f8f-3rk0</td>\n",
       "      <td>14735c5f-62d3-4460-98e0-15cea6639ff9-10tu0</td>\n",
       "      <td>259397</td>\n",
       "      <td>aii,6hs,aim,ail,9hx,aix,8so,8sq,8s2,47z,5o2,43...</td>\n",
       "      <td>953021</td>\n",
       "      <td>18</td>\n",
       "      <td>11854</td>\n",
       "      <td>2658</td>\n",
       "      <td>...</td>\n",
       "      <td>0</td>\n",
       "      <td>0</td>\n",
       "      <td>188879</td>\n",
       "      <td>Mozilla/5.0 (Linux; Android 6.0; Infinix_X521 ...</td>\n",
       "      <td>129311</td>\n",
       "      <td>196041</td>\n",
       "      <td>196315</td>\n",
       "      <td>0</td>\n",
       "      <td>264494</td>\n",
       "      <td>129408</td>\n",
       "    </tr>\n",
       "    <tr>\n",
       "      <th>4</th>\n",
       "      <td>AWG0fBeQzP48jYdEVZn1</td>\n",
       "      <td>2018-02-21T00:01:26.562+05:30</td>\n",
       "      <td>e240612d-b758-45ef-90be-a8b81450d672-10onw</td>\n",
       "      <td>baf48549-06d3-4fa6-a764-0936e6ebff87-10uu5</td>\n",
       "      <td>298928</td>\n",
       "      <td>7dn,ai9,596,359,5ag,8gp,9iu,8gw,58k,9ix,aj1,5a...</td>\n",
       "      <td>19433112</td>\n",
       "      <td>2</td>\n",
       "      <td>10179</td>\n",
       "      <td>45681</td>\n",
       "      <td>...</td>\n",
       "      <td>437</td>\n",
       "      <td>1808</td>\n",
       "      <td>265618</td>\n",
       "      <td>Mozilla/5.0 (Windows NT 10.0; WOW64) AppleWebK...</td>\n",
       "      <td>196058</td>\n",
       "      <td>196047</td>\n",
       "      <td>196460</td>\n",
       "      <td>202038</td>\n",
       "      <td>264494</td>\n",
       "      <td>129639</td>\n",
       "    </tr>\n",
       "  </tbody>\n",
       "</table>\n",
       "<p>5 rows × 43 columns</p>\n",
       "</div>"
      ],
      "text/plain": [
       "                     id                      timestamp  \\\n",
       "0  AWG0etPWgZyWSkOz8de0  2018-02-21T00:00:00.357+05:30   \n",
       "1  AWG0etPFY5M4951fKkat  2018-02-21T00:00:00.818+05:30   \n",
       "2  AWG0e0GGY5M4951fKwtx  2018-02-21T00:00:31.928+05:30   \n",
       "3  AWG0e3iV2xuD_p56vXkM  2018-02-21T00:00:46.018+05:30   \n",
       "4  AWG0fBeQzP48jYdEVZn1  2018-02-21T00:01:26.562+05:30   \n",
       "\n",
       "                                       imprId  \\\n",
       "0  5d5cb350-a6ca-4a43-a7e5-d0d0e13001ad-10wzw   \n",
       "1  5d5cb350-a6ca-4a43-a7e5-d0d0e13001ad-10wzw   \n",
       "2  6f204377-e2ea-433a-a524-181c1a0566cd-10ni9   \n",
       "3   3fa8c2bb-e96b-4c28-88ca-39ab3a3d3f8f-3rk0   \n",
       "4  e240612d-b758-45ef-90be-a8b81450d672-10onw   \n",
       "\n",
       "                                   clmbUserId  adSltDimId  \\\n",
       "0  ec9b6986-6ec1-4d24-85ab-2343f8d3c553-10nns      298928   \n",
       "1  ec9b6986-6ec1-4d24-85ab-2343f8d3c553-10nns      298928   \n",
       "2  fa38f9fc-3243-4500-8a24-9da7914a24c8-10otg      252853   \n",
       "3  14735c5f-62d3-4460-98e0-15cea6639ff9-10tu0      259397   \n",
       "4  baf48549-06d3-4fa6-a764-0936e6ebff87-10uu5      298928   \n",
       "\n",
       "                                                auds    itemid  algo  \\\n",
       "0  9hx,7dx,592,596,ctf,cth,5ag,ctp,8gv,8gw,58k,9i...  19760035    18   \n",
       "1  9hx,7dx,592,596,ctf,cth,5ag,ctp,8gv,8gw,58k,9i...  19760035    18   \n",
       "2  7j8,9hx,7dy,41j,8ka,ai9,8sm,5o2,437,9ij,8sy,8s...  18213172    18   \n",
       "3  aii,6hs,aim,ail,9hx,aix,8so,8sq,8s2,47z,5o2,43...    953021    18   \n",
       "4  7dn,ai9,596,359,5ag,8gp,9iu,8gw,58k,9ix,aj1,5a...  19433112     2   \n",
       "\n",
       "   advClientId  pubClientId     ...       cityDimId  stateDimId ispDimId  \\\n",
       "0         7711        45681     ...             437        1808   265618   \n",
       "1         7711        45681     ...             437        1808   265618   \n",
       "2         1091        26570     ...           10235        1800   280429   \n",
       "3        11854         2658     ...               0           0   188879   \n",
       "4        10179        45681     ...             437        1808   265618   \n",
       "\n",
       "                                           userAgent osDimId devTypeDimId  \\\n",
       "0  Mozilla/5.0 (Windows NT 10.0; WOW64; rv:10.0) ...  196058       196047   \n",
       "1  Mozilla/5.0 (Windows NT 10.0; WOW64; rv:10.0) ...  196058       196047   \n",
       "2  Dalvik/2.1.0 (Linux; U; Android 5.1.1; vivo Y3...  129311       196041   \n",
       "3  Mozilla/5.0 (Linux; Android 6.0; Infinix_X521 ...  129311       196041   \n",
       "4  Mozilla/5.0 (Windows NT 10.0; WOW64) AppleWebK...  196058       196047   \n",
       "\n",
       "   vendorDimId  modelDimId  connTypeDimId browserDimId  \n",
       "0       196151      204038         264494       129467  \n",
       "1       196151      204038         264494       129467  \n",
       "2       196472      227522         264496       129433  \n",
       "3       196315           0         264494       129408  \n",
       "4       196460      202038         264494       129639  \n",
       "\n",
       "[5 rows x 43 columns]"
      ]
     },
     "execution_count": 4,
     "metadata": {},
     "output_type": "execute_result"
    }
   ],
   "source": [
    "df.head()"
   ]
  },
  {
   "cell_type": "code",
   "execution_count": 5,
   "metadata": {
    "collapsed": true
   },
   "outputs": [],
   "source": [
    "df = df.sample(frac=1).reset_index(drop=True) # shuffle the dataset\n",
    "# print(df['fraud'])"
   ]
  },
  {
   "cell_type": "code",
   "execution_count": 6,
   "metadata": {
    "collapsed": true
   },
   "outputs": [],
   "source": [
    "#dropping unnecesary\n",
    "df=df.drop('bundleId',axis=1)#NR\n",
    "df=df.drop('refUrl',axis=1)#NR\n",
    "df=df.drop('fraudReason',axis=1)#NR\n",
    "\n",
    "df=df.drop('auds',axis=1)#COMPLEX\n",
    "df=df.drop('callIdentifier',axis=1)#COMPLEX\n",
    "df=df.drop('section',axis=1)#COMPLEX\n",
    "df=df.drop('ctxCatId',axis=1)#COMPLEX\n",
    "df=df.drop('clickXForwardedFor',axis=1)#COMPLEX\n",
    "\n",
    "df=df.drop('crtd',axis=1)#CONST\n",
    "df=df.drop('paid',axis=1)#CONST\n",
    "df=df.drop('esi',axis=1)#CONST"
   ]
  },
  {
   "cell_type": "code",
   "execution_count": 7,
   "metadata": {
    "collapsed": true
   },
   "outputs": [],
   "source": [
    "# Encoding the Independent Variable - id\n",
    "labelencoder_X = LabelEncoder()\n",
    "df.id = labelencoder_X.fit_transform(df.id)\n",
    "\n",
    "# Encoding the Independent Variable - timestamp\n",
    "labelencoder_X = LabelEncoder()\n",
    "df.timestamp = labelencoder_X.fit_transform(df.timestamp)\n",
    "\n",
    "# Encoding the Independent Variable - imprId\n",
    "labelencoder_X = LabelEncoder()\n",
    "df.imprId = labelencoder_X.fit_transform(df.imprId)\n",
    "\n",
    "# Encoding the Independent Variable - clmbUserId\n",
    "labelencoder_X = LabelEncoder()\n",
    "df.clmbUserId = labelencoder_X.fit_transform(df.clmbUserId)\n",
    "\n",
    "# Encoding the Independent Variable - clickIp\n",
    "labelencoder_X = LabelEncoder()\n",
    "df.clickIp = labelencoder_X.fit_transform(df.clickIp)\n",
    "\n",
    "# Encoding the Independent Variable - impressionServedTimeStamp\n",
    "labelencoder_X = LabelEncoder()\n",
    "df.impressionServedTimeStamp = labelencoder_X.fit_transform(df.impressionServedTimeStamp)\n",
    "\n",
    "# Encoding the Independent Variable - ip\n",
    "labelencoder_X = LabelEncoder()\n",
    "df.ip = labelencoder_X.fit_transform(df.ip)\n",
    "\n",
    "# Encoding the Independent Variable - userAgent\n",
    "labelencoder_X = LabelEncoder()\n",
    "df.userAgent = labelencoder_X.fit_transform(df.userAgent)"
   ]
  },
  {
   "cell_type": "code",
   "execution_count": 8,
   "metadata": {
    "collapsed": true
   },
   "outputs": [],
   "source": [
    "#Imputation\n",
    "\n",
    "# mark zero values as missing or NaN\n",
    "df =df.replace(0, np.NaN)\n",
    "# fill missing values with mean column values\n",
    "df.fillna(df.mean(), inplace=True)"
   ]
  },
  {
   "cell_type": "code",
   "execution_count": 9,
   "metadata": {
    "collapsed": true
   },
   "outputs": [],
   "source": [
    "# Encoding the Independent Variable - fraud #this is done after imputation else all these zeros will be replaced by 1s\n",
    "labelencoder_X = LabelEncoder()\n",
    "df.fraud= labelencoder_X.fit_transform(df.fraud)\n",
    "# print(df['fraud'])"
   ]
  },
  {
   "cell_type": "code",
   "execution_count": 10,
   "metadata": {
    "collapsed": true
   },
   "outputs": [],
   "source": [
    "from sklearn.preprocessing import MinMaxScaler\n",
    "scaler= MinMaxScaler(feature_range=(0, 100))\n"
   ]
  },
  {
   "cell_type": "code",
   "execution_count": 11,
   "metadata": {
    "collapsed": false
   },
   "outputs": [
    {
     "data": {
      "text/plain": [
       "array(['id', 'timestamp', 'imprId', 'clmbUserId', 'adSltDimId', 'itemid',\n",
       "       'algo', 'advClientId', 'pubClientId', 'itmClmbLId', 'tmpltId',\n",
       "       'clickBid', 'position', 'siteId', 'fraud', 'uuidSource', 'clickIp',\n",
       "       'clickGeoId', 'adBlockerDetectionValueId',\n",
       "       'impressionServedTimeStamp', 'ip', 'geoDimId', 'cityDimId',\n",
       "       'stateDimId', 'ispDimId', 'userAgent', 'osDimId', 'devTypeDimId',\n",
       "       'vendorDimId', 'modelDimId', 'connTypeDimId', 'browserDimId'],\n",
       "      dtype=object)"
      ]
     },
     "execution_count": 11,
     "metadata": {},
     "output_type": "execute_result"
    }
   ],
   "source": [
    "df.columns.values\n"
   ]
  },
  {
   "cell_type": "code",
   "execution_count": 12,
   "metadata": {
    "collapsed": true
   },
   "outputs": [],
   "source": [
    "cor = df.corr()\n",
    "cor_sorted = cor.sort_values(by=['fraud'], ascending=False).iloc[:,14] #sorting the features to show high corelated features (with fraud) on the top\n",
    "# cor_sorted"
   ]
  },
  {
   "cell_type": "code",
   "execution_count": 13,
   "metadata": {
    "collapsed": true
   },
   "outputs": [],
   "source": [
    "# position                     0.021268\n",
    "# connTypeDimId                0.014521\n",
    "# advClientId                  0.001073\n",
    "# clickGeoId                  -0.001880\n",
    "# clmbUserId                  -0.013623\n",
    "# imprId                      -0.018225\n",
    "# these can be removed"
   ]
  },
  {
   "cell_type": "code",
   "execution_count": 14,
   "metadata": {
    "collapsed": true
   },
   "outputs": [],
   "source": [
    "sp_cor = df.corr(method='spearman')\n",
    "sp_cor_sorted = sp_cor.sort_values(by=['fraud'], ascending=False).iloc[:,14] #sorting the features to show high spearman corelated features (with fraud) on the top"
   ]
  },
  {
   "cell_type": "code",
   "execution_count": 15,
   "metadata": {
    "collapsed": true
   },
   "outputs": [],
   "source": [
    "array = df.values\n",
    "x_cols = [0,1,2,3,4,5,6,7,8,9,10,11,12,13,15,16,17,18,19,20,21,22,23,24,25,26,27,28,29,30,31]\n",
    "# store the feature matrix (X) and response vector (y)\n",
    "X = array[:,x_cols]\n",
    "Y = array[:,14]\n",
    "\n",
    "# splitting X and y into training and testing sets\n",
    "from sklearn.model_selection import train_test_split\n",
    "X_train, X_test, Y_train, Y_test = train_test_split(X, Y, test_size=0.2, random_state=42)\n"
   ]
  },
  {
   "cell_type": "code",
   "execution_count": null,
   "metadata": {
    "collapsed": true
   },
   "outputs": [],
   "source": []
  },
  {
   "cell_type": "code",
   "execution_count": 16,
   "metadata": {
    "collapsed": true
   },
   "outputs": [],
   "source": [
    "#to print confusion matrix\n",
    "from sklearn.metrics import confusion_matrix\n",
    "\n",
    "#to print metrics\n",
    "from sklearn.metrics import accuracy_score\n",
    "from sklearn.metrics import classification_report"
   ]
  },
  {
   "cell_type": "markdown",
   "metadata": {},
   "source": [
    "GAUSSIAN NAIVEBAYES CLASSIFIER - without normalisation"
   ]
  },
  {
   "cell_type": "code",
   "execution_count": 17,
   "metadata": {
    "collapsed": false
   },
   "outputs": [
    {
     "name": "stdout",
     "output_type": "stream",
     "text": [
      "Confusion Matrix of GNB Classifier:\n",
      "[[1471  156]\n",
      " [ 659  773]]\n",
      "Accuracy Score : 0.7335730630925139\n",
      "Report : \n",
      "             precision    recall  f1-score   support\n",
      "\n",
      "        0.0       0.69      0.90      0.78      1627\n",
      "        1.0       0.83      0.54      0.65      1432\n",
      "\n",
      "avg / total       0.76      0.73      0.72      3059\n",
      "\n"
     ]
    }
   ],
   "source": [
    "# training the model on training set\n",
    "from sklearn.naive_bayes import GaussianNB\n",
    "gnb = GaussianNB()\n",
    "gnb.fit(X_train, Y_train)\n",
    "\n",
    "# making predictions on the testing set\n",
    "Y_pred = gnb.predict(X_test)\n",
    "\n",
    "# comparing actual response values (y_test) with predicted response values (y_pred)\n",
    "from sklearn import metrics\n",
    "# print(\"Gaussian Naive Bayes model accuracy(in %):\", metrics.accuracy_score(Y_test, Y_pred)*100)\n",
    "\n",
    "#Confusion matrix and various metrics of GNB classifer\n",
    "\n",
    "results = confusion_matrix(Y_test, Y_pred)\n",
    "print ('Confusion Matrix of GNB Classifier:')\n",
    "print(results)\n",
    "print ('Accuracy Score :',accuracy_score(Y_test, Y_pred))\n",
    "print ('Report : ')\n",
    "print (classification_report(Y_test, Y_pred))"
   ]
  },
  {
   "cell_type": "markdown",
   "metadata": {},
   "source": [
    "SVM - without normalisation"
   ]
  },
  {
   "cell_type": "code",
   "execution_count": 18,
   "metadata": {
    "collapsed": true
   },
   "outputs": [],
   "source": [
    "# from sklearn.svm import SVC # \"Support Vector Classifier\"\n",
    "# clf = SVC(kernel='linear')\n",
    "\n",
    "# # fitting x samples and y classes\n",
    "# clf.fit(X_train, Y_train)\n",
    "# Y_pred = clf.predict(X_test)\n",
    "\n",
    "# # comparing actual response values (y_test) with predicted response values (y_pred)\n",
    "# print(\"SVM accuracy(in %):\", metrics.accuracy_score(Y_test, Y_pred)*100)\n",
    "\n",
    "# results = confusion_matrix(Y_test, Y_pred)\n",
    "# print ('Confusion Matrix SVM:')\n",
    "# print(results)\n",
    "# print ('Accuracy Score :',accuracy_score(Y_test, Y_pred))\n",
    "# print ('Report : ')\n",
    "# print (classification_report(Y_test, Y_pred))"
   ]
  },
  {
   "cell_type": "markdown",
   "metadata": {},
   "source": [
    "LOGISTIC REGRESSION - without normalisation"
   ]
  },
  {
   "cell_type": "code",
   "execution_count": 19,
   "metadata": {
    "collapsed": false
   },
   "outputs": [
    {
     "name": "stdout",
     "output_type": "stream",
     "text": [
      "Confusion Matrix SVM:\n",
      "[[1451  176]\n",
      " [ 491  941]]\n",
      "Accuracy Score : 0.7819548872180451\n",
      "Report : \n",
      "             precision    recall  f1-score   support\n",
      "\n",
      "        0.0       0.75      0.89      0.81      1627\n",
      "        1.0       0.84      0.66      0.74      1432\n",
      "\n",
      "avg / total       0.79      0.78      0.78      3059\n",
      "\n"
     ]
    }
   ],
   "source": [
    "from sklearn import linear_model\n",
    "logreg = linear_model.LogisticRegression(C=1e5)\n",
    "logreg.fit(X_train, Y_train)\n",
    "Y_pred = logreg.predict(X_test)\n",
    "# Put the result into a color plot\n",
    "\n",
    "# print(\"Logistic Regression accuracy(in %):\", metrics.accuracy_score(Y_test, Y_pred)*100)\n",
    "\n",
    "results = confusion_matrix(Y_test, Y_pred)\n",
    "print ('Confusion Matrix SVM:')\n",
    "print(results)\n",
    "print ('Accuracy Score :',accuracy_score(Y_test, Y_pred))\n",
    "print ('Report : ')\n",
    "print (classification_report(Y_test, Y_pred))"
   ]
  },
  {
   "cell_type": "markdown",
   "metadata": {},
   "source": [
    "Normalising data"
   ]
  },
  {
   "cell_type": "code",
   "execution_count": null,
   "metadata": {
    "collapsed": true
   },
   "outputs": [],
   "source": []
  },
  {
   "cell_type": "code",
   "execution_count": 20,
   "metadata": {
    "collapsed": true
   },
   "outputs": [],
   "source": [
    "from sklearn.preprocessing import MinMaxScaler\n",
    "scaler= MinMaxScaler(feature_range=(0, 100))\n",
    "X_train = scaler.fit_transform(X_train)\n",
    "X_test = scaler.transform(X_test)"
   ]
  },
  {
   "cell_type": "code",
   "execution_count": 21,
   "metadata": {
    "collapsed": true
   },
   "outputs": [],
   "source": [
    "from sklearn.preprocessing import StandardScaler\n",
    "sc_X = StandardScaler()\n",
    "X_train = sc_X.fit_transform(X_train)\n",
    "X_test = sc_X.transform(X_test)"
   ]
  },
  {
   "cell_type": "markdown",
   "metadata": {},
   "source": [
    "GNB CLASSIFIER - normalised input"
   ]
  },
  {
   "cell_type": "code",
   "execution_count": 22,
   "metadata": {
    "collapsed": false
   },
   "outputs": [
    {
     "name": "stdout",
     "output_type": "stream",
     "text": [
      "Gaussian Naive Bayes model accuracy(in %): 79.53579601176855\n"
     ]
    }
   ],
   "source": [
    "# training the model on training set\n",
    "# from sklearn.naive_bayes import GaussianNB\n",
    "# gnb = GaussianNB()\n",
    "gnb.fit(X_train, Y_train)\n",
    "# making predictions on the testing set\n",
    "Y_pred = gnb.predict(X_test)\n",
    "\n",
    "# comparing actual response values (y_test) with predicted response values (y_pred)\n",
    "from sklearn import metrics\n",
    "print(\"Gaussian Naive Bayes model accuracy(in %):\", metrics.accuracy_score(Y_test, Y_pred)*100)"
   ]
  },
  {
   "cell_type": "code",
   "execution_count": null,
   "metadata": {
    "collapsed": true
   },
   "outputs": [],
   "source": []
  },
  {
   "cell_type": "code",
   "execution_count": 23,
   "metadata": {
    "collapsed": false
   },
   "outputs": [
    {
     "name": "stdout",
     "output_type": "stream",
     "text": [
      "Confusion Matrix of GNB Classifier:\n",
      "[[1262  365]\n",
      " [ 261 1171]]\n",
      "Accuracy Score : 0.7953579601176856\n",
      "Report : \n",
      "             precision    recall  f1-score   support\n",
      "\n",
      "        0.0       0.83      0.78      0.80      1627\n",
      "        1.0       0.76      0.82      0.79      1432\n",
      "\n",
      "avg / total       0.80      0.80      0.80      3059\n",
      "\n"
     ]
    }
   ],
   "source": [
    "#Confusion matrix and various metrics of GNB classifer\n",
    "\n",
    "# from sklearn.metrics import confusion_matrix\n",
    "# from sklearn.metrics import accuracy_score\n",
    "# from sklearn.metrics import classification_report\n",
    "\n",
    "results = confusion_matrix(Y_test, Y_pred)\n",
    "print ('Confusion Matrix of GNB Classifier:')\n",
    "print(results)\n",
    "print ('Accuracy Score :',accuracy_score(Y_test, Y_pred))\n",
    "print ('Report : ')\n",
    "print (classification_report(Y_test, Y_pred))"
   ]
  },
  {
   "cell_type": "code",
   "execution_count": null,
   "metadata": {
    "collapsed": true
   },
   "outputs": [],
   "source": []
  },
  {
   "cell_type": "markdown",
   "metadata": {},
   "source": []
  },
  {
   "cell_type": "markdown",
   "metadata": {},
   "source": [
    "SVM - normalised input"
   ]
  },
  {
   "cell_type": "code",
   "execution_count": 24,
   "metadata": {
    "collapsed": false
   },
   "outputs": [
    {
     "name": "stdout",
     "output_type": "stream",
     "text": [
      "Confusion Matrix SVM:\n",
      "[[1626    1]\n",
      " [  39 1393]]\n",
      "Accuracy Score : 0.986923831317424\n",
      "Report : \n",
      "             precision    recall  f1-score   support\n",
      "\n",
      "        0.0       0.98      1.00      0.99      1627\n",
      "        1.0       1.00      0.97      0.99      1432\n",
      "\n",
      "avg / total       0.99      0.99      0.99      3059\n",
      "\n"
     ]
    }
   ],
   "source": [
    "from sklearn.svm import SVC # \"Support Vector Classifier\"\n",
    "clf = SVC(kernel='linear')\n",
    "\n",
    "# fitting x samples and y classes\n",
    "clf.fit(X_train, Y_train)\n",
    "Y_pred = clf.predict(X_test)\n",
    "\n",
    "# comparing actual response values (y_test) with predicted response values (y_pred)\n",
    "# print(\"SVM accuracy(in %):\", metrics.accuracy_score(Y_test, Y_pred)*100)\n",
    "\n",
    "# from sklearn.metrics import confusion_matrix\n",
    "# from sklearn.metrics import accuracy_score\n",
    "# from sklearn.metrics import classification_report\n",
    "\n",
    "results = confusion_matrix(Y_test, Y_pred)\n",
    "print ('Confusion Matrix SVM:')\n",
    "print(results)\n",
    "print ('Accuracy Score :',accuracy_score(Y_test, Y_pred))\n",
    "print ('Report : ')\n",
    "print (classification_report(Y_test, Y_pred))"
   ]
  },
  {
   "cell_type": "markdown",
   "metadata": {},
   "source": [
    "LOGISTIC REGRESSION - normalised input"
   ]
  },
  {
   "cell_type": "code",
   "execution_count": 25,
   "metadata": {
    "collapsed": false
   },
   "outputs": [
    {
     "name": "stdout",
     "output_type": "stream",
     "text": [
      "Confusion Matrix Logistic regression :\n",
      "[[1620    7]\n",
      " [  37 1395]]\n",
      "Accuracy Score : 0.9856162144491664\n",
      "Report : \n",
      "             precision    recall  f1-score   support\n",
      "\n",
      "        0.0       0.98      1.00      0.99      1627\n",
      "        1.0       1.00      0.97      0.98      1432\n",
      "\n",
      "avg / total       0.99      0.99      0.99      3059\n",
      "\n"
     ]
    }
   ],
   "source": [
    "from sklearn import linear_model\n",
    "logreg = linear_model.LogisticRegression(C=1e5)\n",
    "logreg.fit(X_train, Y_train)\n",
    "Y_pred = logreg.predict(X_test)\n",
    "# Put the result into a color plot\n",
    "\n",
    "# print(\"Logistic Regression accuracy(in %):\", metrics.accuracy_score(Y_test, Y_pred)*100)\n",
    "\n",
    "# from sklearn.metrics import confusion_matrix\n",
    "# from sklearn.metrics import accuracy_score\n",
    "# from sklearn.metrics import classification_report\n",
    "\n",
    "results = confusion_matrix(Y_test, Y_pred)\n",
    "print ('Confusion Matrix Logistic regression :')\n",
    "print(results)\n",
    "print ('Accuracy Score :',accuracy_score(Y_test, Y_pred))\n",
    "print ('Report : ')\n",
    "print (classification_report(Y_test, Y_pred))"
   ]
  },
  {
   "cell_type": "markdown",
   "metadata": {},
   "source": [
    "DEEP LEARNING"
   ]
  },
  {
   "cell_type": "code",
   "execution_count": 26,
   "metadata": {
    "collapsed": false
   },
   "outputs": [
    {
     "name": "stderr",
     "output_type": "stream",
     "text": [
      "Using TensorFlow backend.\n"
     ]
    }
   ],
   "source": [
    "import warnings\n",
    "warnings.filterwarnings('ignore')\n",
    "# from pandas import read_csv\n",
    "# import numpy as np\n",
    "import matplotlib.pyplot as plt\n",
    "import keras\n",
    "from keras.models import Sequential,model_from_json\n",
    "from keras.layers import Dense, Dropout\n",
    "from keras.optimizers import RMSprop\n",
    "from keras.layers import BatchNormalization\n",
    "import pylab as plt\n",
    "import h5py"
   ]
  },
  {
   "cell_type": "code",
   "execution_count": 27,
   "metadata": {
    "collapsed": true
   },
   "outputs": [],
   "source": [
    "import sklearn.metrics"
   ]
  },
  {
   "cell_type": "code",
   "execution_count": 28,
   "metadata": {
    "collapsed": true
   },
   "outputs": [],
   "source": [
    "\n",
    "batch_size = 128\n",
    "num_classes = 2\n",
    "epochs = 30\n"
   ]
  },
  {
   "cell_type": "code",
   "execution_count": 29,
   "metadata": {
    "collapsed": true
   },
   "outputs": [],
   "source": [
    "# convert class vectors to binary class matrices\n",
    "Y_train = keras.utils.to_categorical(Y_train, num_classes)\n",
    "Y_test = keras.utils.to_categorical(Y_test, num_classes)\n",
    "\n",
    "# Y_test"
   ]
  },
  {
   "cell_type": "code",
   "execution_count": 30,
   "metadata": {
    "collapsed": true
   },
   "outputs": [],
   "source": [
    "#building NN"
   ]
  },
  {
   "cell_type": "code",
   "execution_count": 31,
   "metadata": {
    "collapsed": false
   },
   "outputs": [
    {
     "name": "stdout",
     "output_type": "stream",
     "text": [
      "_________________________________________________________________\n",
      "Layer (type)                 Output Shape              Param #   \n",
      "=================================================================\n",
      "dense_1 (Dense)              (None, 31)                992       \n",
      "_________________________________________________________________\n",
      "dense_2 (Dense)              (None, 32)                1024      \n",
      "_________________________________________________________________\n",
      "batch_normalization_1 (Batch (None, 32)                128       \n",
      "_________________________________________________________________\n",
      "dropout_1 (Dropout)          (None, 32)                0         \n",
      "_________________________________________________________________\n",
      "dense_3 (Dense)              (None, 25)                825       \n",
      "_________________________________________________________________\n",
      "batch_normalization_2 (Batch (None, 25)                100       \n",
      "_________________________________________________________________\n",
      "dropout_2 (Dropout)          (None, 25)                0         \n",
      "_________________________________________________________________\n",
      "dense_4 (Dense)              (None, 16)                416       \n",
      "_________________________________________________________________\n",
      "dense_5 (Dense)              (None, 2)                 34        \n",
      "=================================================================\n",
      "Total params: 3,519\n",
      "Trainable params: 3,405\n",
      "Non-trainable params: 114\n",
      "_________________________________________________________________\n"
     ]
    }
   ],
   "source": [
    "first_layer_size = 31\n",
    "model = Sequential()\n",
    "model.add(Dense(first_layer_size, activation='relu', input_shape=(31,)))\n",
    "model.add(Dense(32, activation='sigmoid'))\n",
    "model.add(BatchNormalization())\n",
    "model.add(Dropout(0.5))\n",
    "model.add(Dense(25, activation='sigmoid'))\n",
    "model.add(BatchNormalization())\n",
    "model.add(Dropout(0.5))\n",
    "model.add(Dense(16, activation='sigmoid'))\n",
    "\n",
    "model.add(Dense(num_classes, activation='softmax'))\n",
    "\n",
    "model.summary()"
   ]
  },
  {
   "cell_type": "code",
   "execution_count": 32,
   "metadata": {
    "collapsed": false
   },
   "outputs": [
    {
     "name": "stdout",
     "output_type": "stream",
     "text": [
      "Test loss: 0.04661931366994295\n",
      "Test accuracy: 0.9879045439686172\n"
     ]
    }
   ],
   "source": [
    "model.compile(loss='categorical_crossentropy', optimizer=RMSprop(), metrics=['accuracy'])\n",
    "classifier = model.fit(X_train, Y_train, batch_size=batch_size, epochs=epochs,verbose=0,validation_data=(X_test, Y_test))\n",
    "score = model.evaluate(X_test, Y_test, verbose=0)\n",
    "print('Test loss:', score[0])\n",
    "print('Test accuracy:', score[1])"
   ]
  },
  {
   "cell_type": "code",
   "execution_count": 33,
   "metadata": {
    "collapsed": false
   },
   "outputs": [
    {
     "name": "stdout",
     "output_type": "stream",
     "text": [
      "Prediction\n",
      " [[0.99623126 0.00376873]\n",
      " [0.996387   0.00361296]\n",
      " [0.00180777 0.99819225]\n",
      " ...\n",
      " [0.00190076 0.99809927]\n",
      " [0.00180778 0.99819225]\n",
      " [0.99640816 0.00359182]]\n",
      "Thresholded output\n",
      " [[1 0]\n",
      " [1 0]\n",
      " [0 1]\n",
      " ...\n",
      " [0 1]\n",
      " [0 1]\n",
      " [1 0]]\n"
     ]
    }
   ],
   "source": [
    "#print(x_test[1:2].shape)\n",
    "predictions = model.predict(X_test)\n",
    "# prediction = prediction[0]\n",
    "print('Prediction\\n',predictions)\n",
    "thr_pred =(predictions>0.5)*1\n",
    "print('Thresholded output\\n',thr_pred)"
   ]
  },
  {
   "cell_type": "code",
   "execution_count": 38,
   "metadata": {
    "collapsed": false
   },
   "outputs": [
    {
     "name": "stdout",
     "output_type": "stream",
     "text": [
      "Confusion Matrix of Neural network:\n",
      "[[1611   16]\n",
      " [  21 1411]]\n",
      "Accuracy Score : 0.9879045439686172\n",
      "Report : \n",
      "             precision    recall  f1-score   support\n",
      "\n",
      "          0       0.99      0.99      0.99      1627\n",
      "          1       0.99      0.99      0.99      1432\n",
      "\n",
      "avg / total       0.99      0.99      0.99      3059\n",
      "\n"
     ]
    }
   ],
   "source": [
    "from sklearn.metrics import confusion_matrix\n",
    "from sklearn.metrics import accuracy_score\n",
    "from sklearn.metrics import classification_report\n",
    "\n",
    "# results = confusion_matrix(Y_test, l)\n",
    "results = confusion_matrix(Y_test.argmax(axis=1), predictions.argmax(axis=1))\n",
    "print ('Confusion Matrix of Neural network:')\n",
    "print(results)\n",
    "print ('Accuracy Score :',accuracy_score(Y_test.argmax(axis=1), predictions.argmax(axis=1)))\n",
    "print ('Report : ')\n",
    "print (classification_report(Y_test.argmax(axis=1), predictions.argmax(axis=1)))"
   ]
  },
  {
   "cell_type": "code",
   "execution_count": 35,
   "metadata": {
    "collapsed": true
   },
   "outputs": [],
   "source": [
    "model.save_weights('model.h5')"
   ]
  },
  {
   "cell_type": "code",
   "execution_count": 36,
   "metadata": {
    "collapsed": false
   },
   "outputs": [
    {
     "data": {
      "image/png": "[encoded data removed]",
      "text/plain": [
       "<Figure size 432x288 with 1 Axes>"
      ]
     },
     "metadata": {},
     "output_type": "display_data"
    }
   ],
   "source": [
    "import matplotlib.pyplot as plt\n",
    "%matplotlib inline \n",
    "fig = plt.gcf()\n",
    "plt.plot(classifier.history['acc'])\n",
    "plt.plot(classifier.history['val_acc'])\n",
    "plt.title(\"Accuracy Curve\")\n",
    "plt.xlabel(\"Epochs\")\n",
    "plt.ylabel(\"Accuracy\")\n",
    "plt.legend(['train','test'], loc=\"upper left\")\n",
    "plt.show()\n",
    "fig.savefig(\"Model_Accuracy_Curves.png\")"
   ]
  },
  {
   "cell_type": "code",
   "execution_count": 37,
   "metadata": {
    "collapsed": false
   },
   "outputs": [
    {
     "data": {
      "image/png": "[encoded data removed]",
      "text/plain": [
       "<Figure size 432x288 with 1 Axes>"
      ]
     },
     "metadata": {},
     "output_type": "display_data"
    }
   ],
   "source": [
    "import matplotlib.pyplot as plt\n",
    "%matplotlib inline \n",
    "fig = plt.gcf()\n",
    "plt.plot(classifier.history['loss'])\n",
    "plt.plot(classifier.history['val_loss'])\n",
    "plt.title(\"Log Loss Curve\")\n",
    "plt.xlabel(\"Epochs\")\n",
    "plt.ylabel(\"Loss\")\n",
    "plt.legend(['train','test'], loc=\"upper left\")\n",
    "plt.show()\n",
    "fig.savefig(\"Model_Loss_Curves.png\")"
   ]
  },
  {
   "cell_type": "code",
   "execution_count": null,
   "metadata": {
    "collapsed": true
   },
   "outputs": [],
   "source": []
  }
 ],
 "metadata": {
  "kernelspec": {
   "display_name": "Python [default]",
   "language": "python",
   "name": "python3"
  },
  "language_info": {
   "codemirror_mode": {
    "name": "ipython",
    "version": 3
   },
   "file_extension": ".py",
   "mimetype": "text/x-python",
   "name": "python",
   "nbconvert_exporter": "python",
   "pygments_lexer": "ipython3",
   "version": "3.5.2"
  }
 },
 "nbformat": 4,
 "nbformat_minor": 2
}
