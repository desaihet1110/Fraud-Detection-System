{
 "cells": [
  {
   "cell_type": "code",
   "execution_count": 1,
   "metadata": {},
   "outputs": [
    {
     "name": "stdout",
     "output_type": "stream",
     "text": [
      "   AWG0etUhKIXXhTepr6VQ  2018-02-21T00:00:02.563+05:30  \\\n",
      "0  AWG0etUNzkWwWlnQ_Wjx  2018-02-21T00:00:02.675+05:30   \n",
      "1  AWG0ethAzP48jYdEU50z  2018-02-21T00:00:04.786+05:30   \n",
      "2  AWG0etxYY5M4951fKlr8  2018-02-21T00:00:05.694+05:30   \n",
      "3  AWG0etx2KC6s0QmLLWyH  2018-02-21T00:00:05.885+05:30   \n",
      "4  AWG0et872xuD_p56vHbv  2018-02-21T00:00:06.759+05:30   \n",
      "\n",
      "   b6d722cf-3ed3-4a59-b48d-1a8df71828a3-10nns  \\\n",
      "0   e84fc925-a27b-45fb-a040-6bf24bb724fc-3rmt   \n",
      "1  ceb70fb6-3b81-4bdd-b77d-4dc363de9895-10oa0   \n",
      "2  1aa2f487-d8d7-45f2-91cc-f60bcdfd0ef8-10x5g   \n",
      "3  1e1ea341-7922-4e40-b327-fe763ca03fab-10nw4   \n",
      "4  047eca94-4440-4eeb-9fd1-d6486c10a286-10uwx   \n",
      "\n",
      "   4fe59eda-ab5d-4b80-8bfa-2106771c316e  129084  \\\n",
      "0  8019917b-444f-4959-93cf-a7bb02f6dfd4  195989   \n",
      "1  ddb32329-0b2d-4449-aa9c-d30e991f00ea  129189   \n",
      "2  4d661b21-d418-4cbd-8f12-1384d1006e96  206462   \n",
      "3  43979058-C8AD-446E-9C0E-E8E106EA72F0  210916   \n",
      "4  b85f4172-b41e-4a10-b419-7c2ad28d8bbe  205965   \n",
      "\n",
      "  33h,9hx,33i,7dx,ai9,ai8,358,9ij,3g4,8gq,7g4,aj0,8gw,761,aib,9l1,47b,8j1,9l3,35i,ain,35j,aiq,ais,aiy,9kc,7gh,75w,9kk,75x,7gm,8k6,8k7,8k8,8k9,2vk,2vl,2vo,2x1,2x2,8rj,2x6,8rk,2vv,8rm,8rn,40q,8ro,2vy,8rp,8rq,8t4,8rs,80r,8rt,9lm,8rw,8sa,2wl,41f,8sj,8sm,41o,8sn,8so,312,8sp,8sq,437,5o2,8ss,8st,5mt,ato,5o8,2xf,30b,8tc,8kz,8tf,8tg,8ti,9ne,9nf,9ni,9nj,446,30s,5vy,9no,6hp,6hq,6hs,43b,5oa,5od,2yt,5op,9i1,9i3,9i6,5ps,68z  \\\n",
      "0  7j8,8sa,2wl,33h,33i,8ka,ai9,8kd,8ke,9ib,8sm,8s...                                                                                                                                                                                                                                                                                                                                                                            \n",
      "1  cy9,8sa,9hx,7dx,8sh,ai9,cxf,8sm,311,8sn,8so,8s...                                                                                                                                                                                                                                                                                                                                                                            \n",
      "2  cu3,3ly,7dn,33h,33i,9hz,352,3mj,ai9,9ib,359,3m...                                                                                                                                                                                                                                                                                                                                                                            \n",
      "3  7dp,33h,33i,9hx,41h,8sk,8sm,8so,8sq,437,5o2,at...                                                                                                                                                                                                                                                                                                                                                                            \n",
      "4  6hs,3ud,43b,35i,35j,7dx,2yt,8sm,8sn,8sp,8sr,8s...                                                                                                                                                                                                                                                                                                                                                                            \n",
      "\n",
      "     953021  18  11854   2658   ...      436  1806  269939  \\\n",
      "0  16508438   1   1547  13539   ...      439  1815  280429   \n",
      "1  17736050  20  48568   7268   ...      437  1808  285247   \n",
      "2    953021  18  11854   2308   ...    10278  1808  266906   \n",
      "3    953021   2  11854   2316   ...        0     0  152285   \n",
      "4  13886307  20  16141  15240   ...        0     0  270493   \n",
      "\n",
      "   Dalvik/2.1.0 (Linux; U; Android 6.0.1; Redmi 3S MIUI/V9.2.2.0.MALMIEK)[Colombia]-aos:3.7.0  \\\n",
      "0  Dalvik/2.1.0 (Linux; U; Android 5.1.1; SM-G550...                                            \n",
      "1  Dalvik/2.1.0 (Linux; U; Android 6.0.1; Nexus 5...                                            \n",
      "2  Dalvik/2.1.0 (Linux; U; Android 8.1.0; TA-1004...                                            \n",
      "3  Mozilla/5.0 (iPhone; CPU iPhone OS 11_2_5 like...                                            \n",
      "4  Dalvik/2.1.0 (Linux; U; Android 6.0.1; SM-G901...                                            \n",
      "\n",
      "   129311  196041  196073     0.1  264494  129433  \n",
      "0  129311  196041  196376  230377  264496  129433  \n",
      "1  129311  196041  196460  229961  264496  129433  \n",
      "2  129311  196041  196457       0  264496  129433  \n",
      "3  129325  196041  196338  204084  264496  129473  \n",
      "4  129311  196041  196376  200613  264494  129433  \n",
      "\n",
      "[5 rows x 43 columns]\n"
     ]
    }
   ],
   "source": [
    "import numpy as np\n",
    "import pandas as pd\n",
    "df = pd.read_csv(\"AllFeb21-click.csv\")\n",
    "\n",
    "#print(dataset.head())\n",
    "\n",
    "# X = df.iloc[:, :5].values\n",
    "# y = df.iloc[:, 22].values\n",
    "\n",
    "print(df.head())"
   ]
  },
  {
   "cell_type": "code",
   "execution_count": null,
   "metadata": {},
   "outputs": [],
   "source": [
    "#dropping unnecesary\n",
    "df=df.drop('refUrl',axis=1)\n",
    "df=df.drop('clmbUserId',axis=1)\n",
    "df=df.drop('auds',axis=1)\n",
    "df=df.drop('fraudReason',axis=1)\n",
    "df=df.drop('bundleId',axis=1)\n",
    "\n",
    "# print(df.shape)"
   ]
  },
  {
   "cell_type": "code",
   "execution_count": null,
   "metadata": {
    "collapsed": true
   },
   "outputs": [],
   "source": [
    "# s=\"2018-02-21T00:01:27.355+05:30\"\n",
    "\n",
    "def toTimestamp(ts):\n",
    "    year=int(ts[:4])\n",
    "    month= int(ts[5:7])\n",
    "    date=int(ts[8:10])\n",
    "    hr=float(ts[11:13])\n",
    "    min=float(ts[14:16])\n",
    "    sec=float(ts[17:23])\n",
    "    gmthr=float(ts[24:26])\n",
    "    gmtmin=float(ts[27:])\n",
    "    timestamp= year *31536000 + month *2638002.88 + date * 86000 + hr*3600 +min *60 +sec + gmthr *3600 + gmtmin *60\n",
    "    return timestamp\n",
    "\n",
    "for i in range(df.shape[0]-1):\n",
    "    (toTimestamp(str(df.iloc[i:i+1,1:2].values[0][0])))"
   ]
  },
  {
   "cell_type": "code",
   "execution_count": null,
   "metadata": {
    "collapsed": true
   },
   "outputs": [],
   "source": []
  }
 ],
 "metadata": {
  "kernelspec": {
   "display_name": "Python 3",
   "language": "python",
   "name": "python3"
  },
  "language_info": {
   "codemirror_mode": {
    "name": "ipython",
    "version": 3
   },
   "file_extension": ".py",
   "mimetype": "text/x-python",
   "name": "python",
   "nbconvert_exporter": "python",
   "pygments_lexer": "ipython3",
   "version": "3.6.3"
  }
 },
 "nbformat": 4,
 "nbformat_minor": 2
}
